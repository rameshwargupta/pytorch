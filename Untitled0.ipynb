{
  "nbformat": 4,
  "nbformat_minor": 0,
  "metadata": {
    "colab": {
      "provenance": [],
      "gpuType": "T4",
      "authorship_tag": "ABX9TyPoAk1f6KfdZfPl6u/W3iQ9",
      "include_colab_link": true
    },
    "kernelspec": {
      "name": "python3",
      "display_name": "Python 3"
    },
    "language_info": {
      "name": "python"
    },
    "accelerator": "GPU"
  },
  "cells": [
    {
      "cell_type": "markdown",
      "metadata": {
        "id": "view-in-github",
        "colab_type": "text"
      },
      "source": [
        "<a href=\"https://colab.research.google.com/github/rameshwargupta/pytorch/blob/main/Untitled0.ipynb\" target=\"_parent\"><img src=\"https://colab.research.google.com/assets/colab-badge.svg\" alt=\"Open In Colab\"/></a>"
      ]
    },
    {
      "cell_type": "code",
      "execution_count": 41,
      "metadata": {
        "colab": {
          "base_uri": "https://localhost:8080/"
        },
        "id": "JbrCOkGdiB2X",
        "outputId": "101146c7-a3ee-4d8b-e682-3a93e9452ad5"
      },
      "outputs": [
        {
          "output_type": "stream",
          "name": "stdout",
          "text": [
            "2.6.0+cu124\n"
          ]
        }
      ],
      "source": [
        "import torch\n",
        "print (torch.__version__)"
      ]
    },
    {
      "cell_type": "markdown",
      "source": [
        "checking gpu"
      ],
      "metadata": {
        "id": "xk7TNRw6ioNW"
      }
    },
    {
      "cell_type": "code",
      "source": [
        "\n",
        "print (\"gpu is avialbale\")\n",
        "print (torch.cuda.get_device_name)\n",
        "print (torch.cuda.get_device_capability)\n",
        "print(torch.cuda.device_count)\n",
        "print (torch.cuda.temperature)\n",
        "\n",
        "print (torch.cuda.get_device_name)"
      ],
      "metadata": {
        "colab": {
          "base_uri": "https://localhost:8080/"
        },
        "id": "sfIx-6fyiuJO",
        "outputId": "05a79588-1bea-4e92-f1b6-0c1ed758dd49"
      },
      "execution_count": 23,
      "outputs": [
        {
          "output_type": "stream",
          "name": "stdout",
          "text": [
            "gpu is avialbale\n",
            "<function get_device_name at 0x7d07487b1b20>\n",
            "<function get_device_capability at 0x7d07487b1bc0>\n",
            "<function device_count at 0x7d07487b2700>\n",
            "<function temperature at 0x7d07487b3560>\n",
            "<function get_device_name at 0x7d07487b1b20>\n"
          ]
        }
      ]
    },
    {
      "cell_type": "markdown",
      "source": [
        "creating a tensor"
      ],
      "metadata": {
        "id": "tUkTQTi1knoZ"
      }
    },
    {
      "cell_type": "code",
      "source": [
        "torch.empty(2,3)"
      ],
      "metadata": {
        "colab": {
          "base_uri": "https://localhost:8080/"
        },
        "id": "DWZ2sNnQkqMR",
        "outputId": "243ab001-428a-4a62-fb83-13ea59f26254"
      },
      "execution_count": 8,
      "outputs": [
        {
          "output_type": "execute_result",
          "data": {
            "text/plain": [
              "tensor([[-1.8942e-30,  4.4851e-41,  2.6925e-08],\n",
              "        [ 0.0000e+00,  1.4574e-43,  6.4460e-44]])"
            ]
          },
          "metadata": {},
          "execution_count": 8
        }
      ]
    },
    {
      "cell_type": "code",
      "source": [
        "a = torch.zeros(2,3)\n",
        "b = torch.ones(2,3)\n",
        "c = torch.rand(2,3)\n",
        "torch.manual_seed(100)\n",
        "d = torch.rand(2,3)\n",
        "print (a,b,c,d)\n"
      ],
      "metadata": {
        "colab": {
          "base_uri": "https://localhost:8080/"
        },
        "id": "bk0W5_hylMnm",
        "outputId": "b78870a2-3ac5-4228-8e80-0674298bd394"
      },
      "execution_count": 16,
      "outputs": [
        {
          "output_type": "stream",
          "name": "stdout",
          "text": [
            "tensor([[0., 0., 0.],\n",
            "        [0., 0., 0.]]) tensor([[1., 1., 1.],\n",
            "        [1., 1., 1.]]) tensor([[0.2627, 0.0428, 0.2080],\n",
            "        [0.1180, 0.1217, 0.7356]]) tensor([[0.1117, 0.8158, 0.2626],\n",
            "        [0.4839, 0.6765, 0.7539]])\n"
          ]
        }
      ]
    },
    {
      "cell_type": "code",
      "source": [
        "torch.tensor([1,2,3],[1,2,3])"
      ],
      "metadata": {
        "id": "5ob2aBrbluUM"
      },
      "execution_count": null,
      "outputs": []
    },
    {
      "cell_type": "code",
      "source": [
        "print (torch.linspace(0,10,5)) #zero to 10 in 5 random steps evenlly spaced\n",
        "print(torch.arange(0,5))  #zero to 5 creating a tensor\n",
        "print (type(torch.arange(0,3)))"
      ],
      "metadata": {
        "colab": {
          "base_uri": "https://localhost:8080/"
        },
        "id": "bpk-TeUfmnAQ",
        "outputId": "c6fd0f24-e484-4566-ccaf-1498b33ffecb"
      },
      "execution_count": 29,
      "outputs": [
        {
          "output_type": "stream",
          "name": "stdout",
          "text": [
            "tensor([ 0.0000,  2.5000,  5.0000,  7.5000, 10.0000])\n",
            "tensor([0, 1, 2, 3, 4])\n",
            "<class 'torch.Tensor'>\n"
          ]
        }
      ]
    },
    {
      "cell_type": "code",
      "source": [
        "print(torch.eye(5)) #return identity matrix\n",
        "print(torch.eye(3))\n",
        "print (torch.eye(1,3))\n",
        "print (torch.full((3,3),5))\n",
        "print (torch.full((2,2),5))\n",
        "print (torch.full((3,2),1))"
      ],
      "metadata": {
        "colab": {
          "base_uri": "https://localhost:8080/"
        },
        "id": "iPWvn3_DpkEN",
        "outputId": "4758eee1-7629-4872-d011-c0bc17070780"
      },
      "execution_count": 35,
      "outputs": [
        {
          "output_type": "stream",
          "name": "stdout",
          "text": [
            "tensor([[1., 0., 0., 0., 0.],\n",
            "        [0., 1., 0., 0., 0.],\n",
            "        [0., 0., 1., 0., 0.],\n",
            "        [0., 0., 0., 1., 0.],\n",
            "        [0., 0., 0., 0., 1.]])\n",
            "tensor([[1., 0., 0.],\n",
            "        [0., 1., 0.],\n",
            "        [0., 0., 1.]])\n",
            "tensor([[1., 0., 0.]])\n",
            "tensor([[5, 5, 5],\n",
            "        [5, 5, 5],\n",
            "        [5, 5, 5]])\n",
            "tensor([[5, 5],\n",
            "        [5, 5]])\n",
            "tensor([[1, 1],\n",
            "        [1, 1],\n",
            "        [1, 1]])\n"
          ]
        }
      ]
    },
    {
      "cell_type": "markdown",
      "source": [
        "tensor shape"
      ],
      "metadata": {
        "id": "2PuI6DQcqVW0"
      }
    },
    {
      "cell_type": "code",
      "source": [
        "x = torch.tensor([[1,2],[2,2]])\n",
        "print (x.shape)"
      ],
      "metadata": {
        "colab": {
          "base_uri": "https://localhost:8080/"
        },
        "id": "EVKfc2xWpRlc",
        "outputId": "e6d2f924-3867-4741-8824-390d1963c16c"
      },
      "execution_count": 36,
      "outputs": [
        {
          "output_type": "stream",
          "name": "stdout",
          "text": [
            "torch.Size([2, 2])\n"
          ]
        }
      ]
    },
    {
      "cell_type": "markdown",
      "source": [
        "creating similar tensor"
      ],
      "metadata": {
        "id": "cEhOkfwHqliW"
      }
    },
    {
      "cell_type": "code",
      "source": [
        "x = torch.tensor([[1,2],[2,2]])\n",
        "p = torch.empty_like(x)\n",
        "print (p)\n",
        "print (torch.zeros_like(x))\n",
        "print (torch.ones_like(x))\n",
        "print (torch.rand_like(x,dtype=torch.float))"
      ],
      "metadata": {
        "colab": {
          "base_uri": "https://localhost:8080/"
        },
        "id": "Idkd4dOhqk62",
        "outputId": "0a924544-cefc-43a1-ce36-9d6976bad628"
      },
      "execution_count": 51,
      "outputs": [
        {
          "output_type": "stream",
          "name": "stdout",
          "text": [
            "tensor([[       10791152, 137466723030848],\n",
            "        [137466723030800, 137471395269680]])\n",
            "tensor([[0, 0],\n",
            "        [0, 0]])\n",
            "tensor([[1, 1],\n",
            "        [1, 1]])\n",
            "tensor([[0.2627, 0.0428],\n",
            "        [0.2080, 0.1180]])\n"
          ]
        }
      ]
    },
    {
      "cell_type": "markdown",
      "source": [
        "tensor data type"
      ],
      "metadata": {
        "id": "eK-Iy7pKrxG7"
      }
    },
    {
      "cell_type": "code",
      "source": [
        "print(x.dtype)\n",
        "print(torch.tensor([1.0,2.0,3],dtype=torch.int64))\n",
        "print(torch.tensor([1.0,2.0,3],dtype=torch.float32))\n",
        "print(x.to(torch.float32))"
      ],
      "metadata": {
        "colab": {
          "base_uri": "https://localhost:8080/"
        },
        "id": "X-_wQHPDqULP",
        "outputId": "faa1f409-5eac-4957-84cc-2525dfc9b011"
      },
      "execution_count": 50,
      "outputs": [
        {
          "output_type": "stream",
          "name": "stdout",
          "text": [
            "torch.int64\n",
            "tensor([1, 2, 3])\n",
            "tensor([1., 2., 3.])\n",
            "tensor([[1., 2.],\n",
            "        [2., 2.]])\n"
          ]
        }
      ]
    },
    {
      "cell_type": "markdown",
      "source": [
        "mathmetical operation"
      ],
      "metadata": {
        "id": "u65blZFTsxcX"
      }
    },
    {
      "cell_type": "code",
      "source": [
        "x = torch.rand(2,2)\n",
        "y = torch.ones(2,2)\n",
        "print (x,y)\n",
        "print (y+2)\n",
        "print (y-1)\n",
        "print(y*3)\n",
        "print(y/2)\n",
        "print(y**2)"
      ],
      "metadata": {
        "colab": {
          "base_uri": "https://localhost:8080/"
        },
        "id": "KoBfS0ktszuh",
        "outputId": "c5aeafa4-707a-4f48-cf8e-1478807415e9"
      },
      "execution_count": 55,
      "outputs": [
        {
          "output_type": "stream",
          "name": "stdout",
          "text": [
            "tensor([[0.5557, 0.9770],\n",
            "        [0.4440, 0.9478]]) tensor([[1., 1.],\n",
            "        [1., 1.]])\n",
            "tensor([[3., 3.],\n",
            "        [3., 3.]])\n",
            "tensor([[0., 0.],\n",
            "        [0., 0.]])\n",
            "tensor([[3., 3.],\n",
            "        [3., 3.]])\n",
            "tensor([[0.5000, 0.5000],\n",
            "        [0.5000, 0.5000]])\n",
            "tensor([[1., 1.],\n",
            "        [1., 1.]])\n"
          ]
        }
      ]
    },
    {
      "cell_type": "markdown",
      "source": [],
      "metadata": {
        "id": "oFeCJe3Ts1ZU"
      }
    },
    {
      "cell_type": "code",
      "source": [],
      "metadata": {
        "id": "d83HhwUms06I"
      },
      "execution_count": null,
      "outputs": []
    },
    {
      "cell_type": "markdown",
      "source": [],
      "metadata": {
        "id": "Po03dVsWs0oy"
      }
    }
  ]
}